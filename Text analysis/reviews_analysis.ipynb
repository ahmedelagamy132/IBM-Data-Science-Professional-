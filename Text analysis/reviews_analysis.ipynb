{
 "cells": [
  {
   "cell_type": "code",
   "execution_count": 14,
   "metadata": {},
   "outputs": [],
   "source": [
    "review1 =\"I recently tried the new cafe downtown, and it was a mixed experience. The atmosphere was cozy, with warm lighting and comfortable seating. The staff were friendly, but service was slow.\\\n",
    "I ordered a cappuccino and a croissant. The coffee was decent, though not exceptional, and the croissant was fresh but lacked the flaky texture I was hoping for.\\\n",
    " Prices were a bit high for the quality offered. Overall, it's a nice place to relax, but there are better options nearby if you're looking for top-notch coffee and pastries. \\\n",
    " I might give it another try, but I'm not in a rush.\""
   ]
  },
  {
   "cell_type": "code",
   "execution_count": 47,
   "metadata": {},
   "outputs": [],
   "source": [
    "class Creview:\n",
    "    def __init__(self, review):\n",
    "        self.review = review.lower().replace('.','').replace('?','').replace('(','').replace(')','').replace('!','').replace(',','')\n",
    "\n",
    "    def freqAll(self):\n",
    "        \"\"\"Makes a dictionary of all the words freq\"\"\"\n",
    "        freq= {}\n",
    "        words = self.review.split()\n",
    "        for word in words:\n",
    "            if word in freq:\n",
    "                freq[word] += 1\n",
    "            else:\n",
    "                freq[word] = 1\n",
    "        \n",
    "        return freq\n",
    "    \n",
    "    def freqof(self, word):\n",
    "        \"\"\"Gets the frequency of a specific word\"\"\"\n",
    "        freq = self.freqAll()\n",
    "        if word in freq:\n",
    "            return freq[word]\n",
    "        else:\n",
    "            return 0\n",
    "\n",
    "\n",
    "\n",
    "    "
   ]
  },
  {
   "cell_type": "code",
   "execution_count": 45,
   "metadata": {},
   "outputs": [
    {
     "data": {
      "text/plain": [
       "{'i': 3,\n",
       " 'recently': 1,\n",
       " 'tried': 1,\n",
       " 'the': 7,\n",
       " 'new': 1,\n",
       " 'cafe': 1,\n",
       " 'downtown': 1,\n",
       " 'and': 5,\n",
       " 'it': 2,\n",
       " 'was': 6,\n",
       " 'a': 6,\n",
       " 'mixed': 1,\n",
       " 'experience': 1,\n",
       " 'atmosphere': 1,\n",
       " 'cozy': 1,\n",
       " 'with': 1,\n",
       " 'warm': 1,\n",
       " 'lighting': 1,\n",
       " 'comfortable': 1,\n",
       " 'seating': 1,\n",
       " 'staff': 1,\n",
       " 'were': 2,\n",
       " 'friendly': 1,\n",
       " 'but': 4,\n",
       " 'service': 1,\n",
       " 'slowi': 1,\n",
       " 'ordered': 1,\n",
       " 'cappuccino': 1,\n",
       " 'croissant': 2,\n",
       " 'coffee': 2,\n",
       " 'decent': 1,\n",
       " 'though': 1,\n",
       " 'not': 2,\n",
       " 'exceptional': 1,\n",
       " 'fresh': 1,\n",
       " 'lacked': 1,\n",
       " 'flaky': 1,\n",
       " 'texture': 1,\n",
       " 'hoping': 1,\n",
       " 'for': 3,\n",
       " 'prices': 1,\n",
       " 'bit': 1,\n",
       " 'high': 1,\n",
       " 'quality': 1,\n",
       " 'offered': 1,\n",
       " 'overall': 1,\n",
       " \"it's\": 1,\n",
       " 'nice': 1,\n",
       " 'place': 1,\n",
       " 'to': 1,\n",
       " 'relax': 1,\n",
       " 'there': 1,\n",
       " 'are': 1,\n",
       " 'better': 1,\n",
       " 'options': 1,\n",
       " 'nearby': 1,\n",
       " 'if': 1,\n",
       " \"you're\": 1,\n",
       " 'looking': 1,\n",
       " 'top-notch': 1,\n",
       " 'pastries': 1,\n",
       " 'might': 1,\n",
       " 'give': 1,\n",
       " 'another': 1,\n",
       " 'try': 1,\n",
       " \"i'm\": 1,\n",
       " 'in': 1,\n",
       " 'rush': 1}"
      ]
     },
     "execution_count": 45,
     "metadata": {},
     "output_type": "execute_result"
    }
   ],
   "source": [
    "review = Creview(review1)\n",
    "review.freqAll()\n"
   ]
  },
  {
   "cell_type": "code",
   "execution_count": 50,
   "metadata": {},
   "outputs": [
    {
     "name": "stdout",
     "output_type": "stream",
     "text": [
      "The word \"the\" apperars 7 times.\n"
     ]
    }
   ],
   "source": [
    "word = \"the\"\n",
    "print(f\"The word \\\"{word}\\\" apperars {review.freqof(word)} times.\")"
   ]
  }
 ],
 "metadata": {
  "kernelspec": {
   "display_name": "ML",
   "language": "python",
   "name": "python3"
  },
  "language_info": {
   "codemirror_mode": {
    "name": "ipython",
    "version": 3
   },
   "file_extension": ".py",
   "mimetype": "text/x-python",
   "name": "python",
   "nbconvert_exporter": "python",
   "pygments_lexer": "ipython3",
   "version": "3.11.9"
  }
 },
 "nbformat": 4,
 "nbformat_minor": 2
}
